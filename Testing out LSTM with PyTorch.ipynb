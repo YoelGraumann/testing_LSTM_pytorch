{
 "cells": [
  {
   "cell_type": "markdown",
   "id": "29b3df1d",
   "metadata": {},
   "source": [
    "# Testing out Long-Short Term Memory with PyTorch"
   ]
  },
  {
   "cell_type": "markdown",
   "id": "43a621d9",
   "metadata": {},
   "source": [
    "Generating sequential data from a simplified Kalman filter and then trying to predict the next observation using LSTM"
   ]
  },
  {
   "cell_type": "markdown",
   "id": "f0cb93fe",
   "metadata": {},
   "source": [
    "Data Generation proccess will yield a timeseries data for a simplified kalman filter"
   ]
  },
  {
   "cell_type": "markdown",
   "id": "440cc46d",
   "metadata": {},
   "source": [
    "Simplified Kalman filter:\n",
    "    $X_{t+1}=A*X_{t}+\\epsilon_{1,t+1} \\space \\space  \\space Y_{t+1}=B*X_{t+1}+\\epsilon_{2,t+1}$"
   ]
  },
  {
   "cell_type": "markdown",
   "id": "5a624c2c",
   "metadata": {},
   "source": [
    "$X_{t}$ is the state vector and $Y_{t}$ is the observation\n"
   ]
  },
  {
   "cell_type": "markdown",
   "id": "fe2b5bd0",
   "metadata": {},
   "source": [
    "$\\epsilon_{1}$ is the process noise and $\\epsilon_{2}$ is the observation noise. let them both be normally distributed with mean zero with their appropriate standard deviations $\\sigma_{1}$ and $\\sigma_{2}$:"
   ]
  },
  {
   "cell_type": "markdown",
   "id": "5cd92ab9",
   "metadata": {},
   "source": [
    "$\\sigma_{1}=0.01 , \\sigma_{2}=0.2$"
   ]
  },
  {
   "cell_type": "markdown",
   "id": "34aaa048",
   "metadata": {},
   "source": [
    "Matrices A and B are given by:"
   ]
  },
  {
   "cell_type": "markdown",
   "id": "895fa1d0",
   "metadata": {},
   "source": [
    "$$A= \\begin{bmatrix} \\frac{\\sqrt(99)}{10} & -\\frac{1}{10}  \\\\ \\frac{1}{10} & \\frac{\\sqrt99}{10} \\end{bmatrix}$$\n",
    "\n",
    "$$B= \\begin{bmatrix} \\frac{\\sqrt2}{2} & -1  \\\\ \\frac{\\sqrt2}{2} & \\frac{\\sqrt2}{2} \\end{bmatrix}$$\n"
   ]
  },
  {
   "cell_type": "markdown",
   "id": "4a79ffd6",
   "metadata": {},
   "source": [
    "Now I can generate the data:"
   ]
  },
  {
   "cell_type": "code",
   "execution_count": 1,
   "id": "e33d4c87",
   "metadata": {},
   "outputs": [],
   "source": [
    "import numpy as np\n",
    "from math import sqrt\n",
    "import torch\n",
    "import torch.nn as nn\n",
    "import matplotlib.pyplot as plt\n",
    "import pandas as pd\n",
    "device=torch.device(\"cuda:0\" if torch.cuda.is_available() else \"cpu\")"
   ]
  },
  {
   "cell_type": "code",
   "execution_count": 2,
   "id": "a0a2bfdc",
   "metadata": {},
   "outputs": [
    {
     "name": "stdout",
     "output_type": "stream",
     "text": [
      "initial state vector:  [1 0]\n",
      "state dynamic model: [[ 0.99498744 -0.1       ]\n",
      " [ 0.1         0.99498744]]\n",
      "Observation model [[ 0.70710678 -1.        ]\n",
      " [ 0.70710678  0.70710678]]\n"
     ]
    }
   ],
   "source": [
    "epsilon1=np.random.normal(0,0.01,2000)\n",
    "epsilon2=np.random.normal(0,0.2,2000)\n",
    "initial_state_vector=np.array([1,0])\n",
    "print('initial state vector: ',initial_state_vector)\n",
    "A=np.array([[sqrt(99)/10,-1/10],[1/10,sqrt(99)/10]])\n",
    "B=np.array([[sqrt(2)/2,-2/2],[sqrt(2)/2,sqrt(2)/2]])\n",
    "print(\"state dynamic model:\",A)\n",
    "print(\"Observation model\",B)\n",
    "## X\n",
    "unobserved_state_vector=[]\n",
    "unobserved_state_vector.append(initial_state_vector)\n",
    "### Y\n",
    "observation=[[0,0]]\n",
    "### Generating Data using the kalman filter with the parameters and equations\n",
    "### Provided in the Homework 2 Question 4.\n",
    "for j in range(1,2000):\n",
    "    unobserved_state_vector.append(np.matmul(A,unobserved_state_vector[j-1])+epsilon1[j])\n",
    "    observation.append(np.matmul(B,unobserved_state_vector[j])+epsilon2[j])"
   ]
  },
  {
   "cell_type": "markdown",
   "id": "6cba217a",
   "metadata": {},
   "source": [
    "Example of the generated data..."
   ]
  },
  {
   "cell_type": "code",
   "execution_count": 3,
   "id": "f966779d",
   "metadata": {},
   "outputs": [
    {
     "data": {
      "text/plain": [
       "([array([0.88382327, 0.49411196]),\n",
       "  array([0.83365908, 0.58369475]),\n",
       "  array([0.76443655, 0.65746056]),\n",
       "  array([0.70198278, 0.73773272]),\n",
       "  array([0.61608254, 0.79562484])],\n",
       " [array([0.01098452, 0.85448639]),\n",
       "  array([-0.06566154,  0.93076773]),\n",
       "  array([0.20901729, 1.33137267]),\n",
       "  array([-0.4138464 ,  0.84554213]),\n",
       "  array([-0.55878181,  0.79943475])],\n",
       " 2000,\n",
       " 2000)"
      ]
     },
     "execution_count": 3,
     "metadata": {},
     "output_type": "execute_result"
    }
   ],
   "source": [
    "unobserved_state_vector[5:10], observation[5:10], len(unobserved_state_vector) , len(observation)"
   ]
  },
  {
   "cell_type": "markdown",
   "id": "87ea6fb1",
   "metadata": {},
   "source": [
    "Training on Y to predict Y."
   ]
  },
  {
   "cell_type": "markdown",
   "id": "1ba7b825",
   "metadata": {},
   "source": [
    "So basically, the input vector into the LSTM will simply be the observations.\n",
    "Then turn it into a timeseries data and then train the model."
   ]
  },
  {
   "cell_type": "code",
   "execution_count": 4,
   "id": "5406dba0",
   "metadata": {},
   "outputs": [
    {
     "data": {
      "text/plain": [
       "2000"
      ]
     },
     "execution_count": 4,
     "metadata": {},
     "output_type": "execute_result"
    }
   ],
   "source": [
    "input_vector_to_lstm=observation\n",
    "len(input_vector_to_lstm)"
   ]
  },
  {
   "cell_type": "markdown",
   "id": "52d42f5e",
   "metadata": {},
   "source": [
    "Creating the train test split. We also create a function which will help us turn the data into a timeseries-ready\n",
    "dataset. window size will be set to five by default."
   ]
  },
  {
   "cell_type": "code",
   "execution_count": 5,
   "id": "ecd694e9",
   "metadata": {},
   "outputs": [
    {
     "data": {
      "text/plain": [
       "([array([0.01098452, 0.85448639]),\n",
       "  array([-0.06566154,  0.93076773]),\n",
       "  array([0.20901729, 1.33137267]),\n",
       "  array([-0.4138464 ,  0.84554213]),\n",
       "  array([-0.55878181,  0.79943475])],\n",
       " array([-0.28927613,  1.13287466]),\n",
       " [array([-0.06566154,  0.93076773]),\n",
       "  array([0.20901729, 1.33137267]),\n",
       "  array([-0.4138464 ,  0.84554213]),\n",
       "  array([-0.55878181,  0.79943475]),\n",
       "  array([-0.28927613,  1.13287466])])"
      ]
     },
     "execution_count": 5,
     "metadata": {},
     "output_type": "execute_result"
    }
   ],
   "source": [
    "training_data=input_vector_to_lstm[:1000]\n",
    "testing_data=input_vector_to_lstm[1000:]\n",
    "\n",
    "def create_timeseries_data(data,window_size=5):\n",
    "    x=[]\n",
    "    y=[]\n",
    "    for i in range(len(data)-window_size):\n",
    "        row=[k for k in data[i:i+window_size]]\n",
    "        x.append(row)\n",
    "        answer=data[i+window_size]\n",
    "        y.append(answer)\n",
    "    return x,y\n",
    "\n",
    "#### \n",
    "X_train,y_train=create_timeseries_data(training_data,5) #<--- first 1000 data points of the observations\n",
    "X_test,y_test=create_timeseries_data(testing_data,5) # <--- last 1000 data points of the OBSERVATIONS\n",
    "# let's see some examples:\n",
    "X_train[5] , y_train[5], X_train[6]"
   ]
  },
  {
   "cell_type": "markdown",
   "id": "9aec2cc0",
   "metadata": {},
   "source": [
    "Reshaping and moving to Pytorch World for the Pytorch DL models to work, also setting up some useful \n",
    "variables"
   ]
  },
  {
   "cell_type": "code",
   "execution_count": 6,
   "id": "295c2e6d",
   "metadata": {},
   "outputs": [],
   "source": [
    "###  moving to PyTorch World:\n",
    "X_train_lstm=torch.from_numpy(np.array(X_train).astype(np.float32))\n",
    "y_train_lstm=torch.from_numpy(np.array(y_train).astype(np.float32))\n",
    "X_test_lstm=torch.from_numpy(np.array(X_test).astype(np.float32))\n",
    "y_test_lstm=torch.from_numpy(np.array(y_test).astype(np.float32))\n",
    "#### Setting up variables\n",
    "# T for timestep or \"window size\"s,D number of features and N number of samples\n",
    "N,T,D=X_train_lstm.shape[0],X_train_lstm.shape[1],X_train_lstm.shape[2]"
   ]
  },
  {
   "cell_type": "markdown",
   "id": "f5138d60",
   "metadata": {},
   "source": [
    "Creating the LSTM Model, and the training function, and then training the model straight away."
   ]
  },
  {
   "cell_type": "code",
   "execution_count": 7,
   "id": "8dac5681",
   "metadata": {},
   "outputs": [
    {
     "name": "stdout",
     "output_type": "stream",
     "text": [
      "epoch 0\n",
      "epoch 300\n",
      "epoch 600\n",
      "epoch 900\n",
      "epoch 1200\n",
      "epoch 1500\n",
      "epoch 1800\n",
      "epoch 2100\n",
      "epoch 2400\n",
      "epoch 2700\n",
      "epoch 3000\n"
     ]
    }
   ],
   "source": [
    "class LSTM(nn.Module):\n",
    "    def __init__(self,n_inputs,n_hidden,n_outputs):\n",
    "        super(LSTM,self).__init__()\n",
    "        self.D=n_inputs\n",
    "        self.M=n_hidden\n",
    "        self.K=n_outputs\n",
    "        self.lstm=nn.LSTM(input_size=self.D,hidden_size=self.M,num_layers=1,batch_first=True)\n",
    "        self.fc=nn.Linear(self.M,self.K)\n",
    "    def forward(self,X):\n",
    "        h0=torch.zeros(1,X.size(0),self.M).to(device)\n",
    "        c0=torch.zeros(1,X.size(0),self.M).to(device)\n",
    "        out,z=self.lstm(X,(h0,c0))\n",
    "        out=self.fc(out[:,-1,:])\n",
    "        return out\n",
    "    \n",
    "    \n",
    "model_lstm=LSTM(n_inputs=D,n_hidden=2,n_outputs=2)\n",
    "model_lstm.to(device)\n",
    "\n",
    "\n",
    "def training_function(model,X_train,y_train,X_test,y_test):\n",
    "    epochs=3001\n",
    "    training_history_losses=np.zeros(epochs)\n",
    "    testing_history_losses=np.zeros(epochs)\n",
    "    criterion=nn.MSELoss()\n",
    "    optimizer=torch.optim.Adam(model.parameters())\n",
    "    for epc in range(epochs):\n",
    "        optimizer.zero_grad()\n",
    "        outputs=model(X_train)\n",
    "        loss=criterion(outputs,y_train)\n",
    "        loss.backward()\n",
    "        optimizer.step()\n",
    "        training_history_losses[epc]=loss.item()\n",
    "        #note that we use only the Y data aka the \"observation\" to test our model.\n",
    "        yhat=model(X_test)\n",
    "        test_loss=criterion(yhat,y_test)\n",
    "        testing_history_losses[epc]=test_loss.item()\n",
    "        if (epc%300==0):\n",
    "            print('epoch',epc)\n",
    "    return training_history_losses,testing_history_losses\n",
    "\n",
    "\n",
    "training_history,testing_history=training_function(model=model_lstm,X_train=X_train_lstm.to(device)\n",
    "                                           ,y_train=y_train_lstm.to(device)\n",
    "                                           ,X_test=X_test_lstm.to(device)\n",
    "                                           ,y_test=y_test_lstm.to(device))"
   ]
  },
  {
   "cell_type": "code",
   "execution_count": 8,
   "id": "2480f349",
   "metadata": {},
   "outputs": [
    {
     "data": {
      "text/plain": [
       "<matplotlib.legend.Legend at 0x2020240db50>"
      ]
     },
     "execution_count": 8,
     "metadata": {},
     "output_type": "execute_result"
    },
    {
     "data": {
      "image/png": "[encoded data removed]",
      "text/plain": [
       "<Figure size 432x288 with 1 Axes>"
      ]
     },
     "metadata": {
      "needs_background": "light"
     },
     "output_type": "display_data"
    }
   ],
   "source": [
    "plt.plot(training_history)\n",
    "plt.plot(testing_history)\n",
    "plt.legend(['train_loss','test_loss'])"
   ]
  },
  {
   "cell_type": "markdown",
   "id": "67b6b5cc",
   "metadata": {},
   "source": [
    "Now that I've trained the model what I wanna do is predict the 1001 observation\n",
    "This means that we have to use the last possible window in the training data \n",
    "to predict the first observation in the test data\n",
    "this is because this is exactly where the split starts since we split it 1000 and 1000 for both train and test\n",
    "so we wanna predict the 1001 observation, basically the first observation in our test set\n",
    "then we can compare and see if they are similar."
   ]
  },
  {
   "cell_type": "code",
   "execution_count": 9,
   "id": "7d6f2a6a",
   "metadata": {},
   "outputs": [
    {
     "name": "stdout",
     "output_type": "stream",
     "text": [
      "tensor([[[ 1.1897, -0.1796],\n",
      "         [ 0.8542, -0.4117],\n",
      "         [ 1.3834,  0.2082],\n",
      "         [ 0.9808, -0.0564],\n",
      "         [ 1.1625,  0.2327]]]) torch.Size([1, 5, 2])\n",
      "The real vector is  [1.21469097 0.44118558] Our model predicts  tensor([[1.0899, 0.2276]], grad_fn=<ToCopyBackward0>)\n"
     ]
    }
   ],
   "source": [
    "# first observation in the test set, we technically \"don't know \" it \n",
    "real_answer=testing_data[0]\n",
    "## Using the last possible window in the training set, which will be used to predict the next \n",
    "#observation\n",
    "## agian, the next observation is technically \"unknown to us\" but it is located in the test set.\n",
    "predict_with_this=training_data[-5:]\n",
    "predict_with_this=torch.from_numpy(np.array(predict_with_this).astype(np.float32))\n",
    "predict_with_this=predict_with_this.reshape(1,5,2)\n",
    "print(predict_with_this,predict_with_this.shape)\n",
    "model_prediction_observation1001=model_lstm(predict_with_this.to(device))\n",
    "print(\"The real vector is \",real_answer, \"Our model predicts \",model_prediction_observation1001.cpu())"
   ]
  },
  {
   "cell_type": "markdown",
   "id": "8dc72114",
   "metadata": {},
   "source": [
    "Goes to show how hard it is to predict the future when we have not \"learned\" it. Still kind of close I guess."
   ]
  },
  {
   "cell_type": "markdown",
   "id": "1671203b",
   "metadata": {},
   "source": [
    "Using an LSTM Model to predict the last 1000 unobserved_state_vector- X\n",
    "Using the first 1000 for training.\n",
    "For the prediction, I will use the last sliding window, or the last 5 elements of the training_data to predict, and then\n",
    "slowly but surely, the predictions will be based off of the previous predictions, and not the test data!"
   ]
  },
  {
   "cell_type": "markdown",
   "id": "7dcc97d1",
   "metadata": {},
   "source": [
    "Setting up the model:"
   ]
  },
  {
   "cell_type": "code",
   "execution_count": 10,
   "id": "cdecd5ab",
   "metadata": {},
   "outputs": [
    {
     "data": {
      "text/plain": [
       "LSTM(\n",
       "  (lstm): LSTM(2, 2, batch_first=True)\n",
       "  (fc): Linear(in_features=2, out_features=2, bias=True)\n",
       ")"
      ]
     },
     "execution_count": 10,
     "metadata": {},
     "output_type": "execute_result"
    }
   ],
   "source": [
    "model_4c=LSTM(n_inputs=D,n_hidden=2,n_outputs=2)\n",
    "model_4c.to(device)"
   ]
  },
  {
   "cell_type": "markdown",
   "id": "1df6edab",
   "metadata": {},
   "source": [
    "This time we have to use the unobserved_state_vector data"
   ]
  },
  {
   "cell_type": "markdown",
   "id": "81ae82bd",
   "metadata": {},
   "source": [
    "Setting up train and test:\n",
    "also again, I will only be using X for predicting the next X in the training."
   ]
  },
  {
   "cell_type": "code",
   "execution_count": 11,
   "id": "c400cc99",
   "metadata": {},
   "outputs": [],
   "source": [
    "input_vector_to_lstm_4c=unobserved_state_vector\n",
    "X_training_data_X=input_vector_to_lstm_4c[:1000]\n",
    "X_testing_data_X=input_vector_to_lstm_4c[1000:]"
   ]
  },
  {
   "cell_type": "code",
   "execution_count": 12,
   "id": "81ce4019",
   "metadata": {},
   "outputs": [
    {
     "data": {
      "text/plain": [
       "([array([0.88382327, 0.49411196]),\n",
       "  array([0.83365908, 0.58369475]),\n",
       "  array([0.76443655, 0.65746056]),\n",
       "  array([0.70198278, 0.73773272]),\n",
       "  array([0.61608254, 0.79562484])],\n",
       " array([0.51326358, 0.83307665]),\n",
       " [array([0.83365908, 0.58369475]),\n",
       "  array([0.76443655, 0.65746056]),\n",
       "  array([0.70198278, 0.73773272]),\n",
       "  array([0.61608254, 0.79562484]),\n",
       "  array([0.51326358, 0.83307665])])"
      ]
     },
     "execution_count": 12,
     "metadata": {},
     "output_type": "execute_result"
    }
   ],
   "source": [
    "#### \n",
    "X_training,y_training=create_timeseries_data(X_training_data_X,5) #<--- first 1000 data points of the unobserved state vector X\n",
    "X_testing,y_testing=create_timeseries_data(X_testing_data_X,5) # <--- last 1000 data points of the unobserved state vector X\n",
    "# let's see some examples:\n",
    "X_training[5] , y_training[5], X_training[6]"
   ]
  },
  {
   "cell_type": "markdown",
   "id": "d65deec3",
   "metadata": {},
   "source": [
    "Same process as before... moving to PyTorch World..."
   ]
  },
  {
   "cell_type": "code",
   "execution_count": 13,
   "id": "bdd1fb10",
   "metadata": {},
   "outputs": [],
   "source": [
    "###  moving to PyTorch World:\n",
    "X_train_lstm_4c=torch.from_numpy(np.array(X_training).astype(np.float32))\n",
    "y_train_lstm_4c=torch.from_numpy(np.array(y_training).astype(np.float32))\n",
    "X_test_lstm_4c=torch.from_numpy(np.array(X_testing).astype(np.float32))\n",
    "y_test_lstm_4c=torch.from_numpy(np.array(y_testing).astype(np.float32))\n",
    "#### Setting up variables\n",
    "# T for timestep or \"window size\"s,D number of features and N obviously number of samples\n",
    "N,T,D=X_train_lstm_4c.shape[0],X_train_lstm_4c.shape[1],X_train_lstm_4c.shape[2]"
   ]
  },
  {
   "cell_type": "code",
   "execution_count": 14,
   "id": "2cece93d",
   "metadata": {},
   "outputs": [
    {
     "name": "stdout",
     "output_type": "stream",
     "text": [
      "epoch 0\n",
      "epoch 300\n",
      "epoch 600\n",
      "epoch 900\n",
      "epoch 1200\n",
      "epoch 1500\n",
      "epoch 1800\n",
      "epoch 2100\n",
      "epoch 2400\n",
      "epoch 2700\n",
      "epoch 3000\n"
     ]
    }
   ],
   "source": [
    "Train_HIST,Test_HIST=training_function(model=model_4c,X_train=X_train_lstm_4c.to(device)\n",
    "                                           ,y_train=y_train_lstm_4c.to(device)\n",
    "                                           ,X_test=X_test_lstm_4c.to(device)\n",
    "                                           ,y_test=y_test_lstm_4c.to(device))"
   ]
  },
  {
   "cell_type": "code",
   "execution_count": 15,
   "id": "8ffd541a",
   "metadata": {},
   "outputs": [
    {
     "data": {
      "text/plain": [
       "<matplotlib.legend.Legend at 0x20202540fd0>"
      ]
     },
     "execution_count": 15,
     "metadata": {},
     "output_type": "execute_result"
    },
    {
     "data": {
      "image/png": "[encoded data removed]",
      "text/plain": [
       "<Figure size 432x288 with 1 Axes>"
      ]
     },
     "metadata": {
      "needs_background": "light"
     },
     "output_type": "display_data"
    }
   ],
   "source": [
    "plt.plot(Train_HIST)\n",
    "plt.plot(Test_HIST)\n",
    "plt.legend(['train_loss','test_loss'])"
   ]
  },
  {
   "cell_type": "markdown",
   "id": "efc2d647",
   "metadata": {},
   "source": [
    "Now again, to predict into the future\n",
    "First I will take the last 5 elements in the X_training_data_X to make predictions and then the next will be based off \n",
    "the previous predictions"
   ]
  },
  {
   "cell_type": "code",
   "execution_count": 16,
   "id": "c2df72e8",
   "metadata": {},
   "outputs": [
    {
     "name": "stdout",
     "output_type": "stream",
     "text": [
      "window shape : torch.Size([5, 2])\n"
     ]
    },
    {
     "data": {
      "text/plain": [
       "tensor([[ 0.4888, -0.8021],\n",
       "        [ 0.5743, -0.7415],\n",
       "        [ 0.6375, -0.6884],\n",
       "        [ 0.7168, -0.6076],\n",
       "        [ 0.7622, -0.5446]], device='cuda:0')"
      ]
     },
     "execution_count": 16,
     "metadata": {},
     "output_type": "execute_result"
    }
   ],
   "source": [
    "window=X_training_data_X[-5:]\n",
    "window=torch.from_numpy(np.array(window).astype(np.float32)).to(device)\n",
    "#window=window.reshape(1,5,2).to(device)\n",
    "## making sure window's shape is good to be input-ed into the model.\n",
    "print(\"window shape :\",window.shape)\n",
    "## moving window to device\n",
    "window.to(device)"
   ]
  },
  {
   "cell_type": "code",
   "execution_count": 17,
   "id": "05e8f191",
   "metadata": {},
   "outputs": [],
   "source": [
    "# list of predictions\n",
    "preds_list=[]\n",
    "## running for 1000 iterations, basically trying to predict the last 1000 values \n",
    "# for the unobserved_state_vector X\n",
    "for i in range(1000):\n",
    "    # making sure input is in correct shape\n",
    "    to_model_input=window.reshape(1,5,2)\n",
    "    #inputting the correct shape into the model\n",
    "    temp_pred=model_4c(to_model_input)\n",
    "    ## Creating a temp row, this is because we have to take the values \n",
    "    ## out item by item.\n",
    "    temp_row=[temp_pred[0,0].item(),temp_pred[0,1].item()]\n",
    "    ### appending to predictions list\n",
    "    preds_list.append(temp_row)\n",
    "    # finally, removing the first element (the oldest time-wise element) in the data\n",
    "    # from behind, and adding to the front of the current prediction.\n",
    "    window=torch.cat((window[1:],temp_pred))"
   ]
  },
  {
   "cell_type": "markdown",
   "id": "d7043321",
   "metadata": {},
   "source": [
    "the predictions list:"
   ]
  },
  {
   "cell_type": "code",
   "execution_count": 18,
   "id": "f0a09ade",
   "metadata": {},
   "outputs": [
    {
     "data": {
      "text/plain": [
       "1000"
      ]
     },
     "execution_count": 18,
     "metadata": {},
     "output_type": "execute_result"
    }
   ],
   "source": [
    "len(preds_list)"
   ]
  },
  {
   "cell_type": "code",
   "execution_count": 19,
   "id": "c994efd5",
   "metadata": {},
   "outputs": [
    {
     "data": {
      "text/plain": [
       "([[0.8031201362609863, -0.4143757224082947],\n",
       "  [0.8471671938896179, -0.3034721612930298],\n",
       "  [0.8866221904754639, -0.19350215792655945],\n",
       "  [0.9204134941101074, -0.08558577299118042],\n",
       "  [0.9457902908325195, 0.016579389572143555]],\n",
       " [[0.3455768823623657, -1.0560321807861328],\n",
       "  [0.4447592794895172, -1.0199060440063477],\n",
       "  [0.5240143537521362, -0.9590729475021362],\n",
       "  [0.5876038074493408, -0.8809071779251099],\n",
       "  [0.6414201259613037, -0.7915951013565063]])"
      ]
     },
     "execution_count": 19,
     "metadata": {},
     "output_type": "execute_result"
    }
   ],
   "source": [
    "preds_list[:5], preds_list[-5:]"
   ]
  },
  {
   "cell_type": "markdown",
   "id": "8498ec67",
   "metadata": {},
   "source": [
    "The real data:"
   ]
  },
  {
   "cell_type": "code",
   "execution_count": 20,
   "id": "38744ae5",
   "metadata": {},
   "outputs": [
    {
     "data": {
      "text/plain": [
       "([array([ 0.82539245, -0.45310897]),\n",
       "  array([ 0.84924457, -0.38561993]),\n",
       "  array([ 0.89148689, -0.29082532]),\n",
       "  array([ 0.92116183, -0.1951578 ]),\n",
       "  array([ 0.93166465, -0.10645896])],\n",
       " [array([ 0.21251539, -0.60996979]),\n",
       "  array([ 0.27159919, -0.58650867]),\n",
       "  array([ 0.33116953, -0.55412796]),\n",
       "  array([ 0.39822577, -0.50492996]),\n",
       "  array([ 0.45112322, -0.4581758 ])])"
      ]
     },
     "execution_count": 20,
     "metadata": {},
     "output_type": "execute_result"
    }
   ],
   "source": [
    "X_testing_data_X[:5],X_testing_data_X[-5:]"
   ]
  },
  {
   "cell_type": "markdown",
   "id": "2fc762e8",
   "metadata": {},
   "source": [
    "Seems like at the start this is pretty close, but the further into the future we go on, \n",
    "the worst the predictions become..."
   ]
  }
 ],
 "metadata": {
  "kernelspec": {
   "display_name": "Python 3 (ipykernel)",
   "language": "python",
   "name": "python3"
  },
  "language_info": {
   "codemirror_mode": {
    "name": "ipython",
    "version": 3
   },
   "file_extension": ".py",
   "mimetype": "text/x-python",
   "name": "python",
   "nbconvert_exporter": "python",
   "pygments_lexer": "ipython3",
   "version": "3.9.7"
  }
 },
 "nbformat": 4,
 "nbformat_minor": 5
}
